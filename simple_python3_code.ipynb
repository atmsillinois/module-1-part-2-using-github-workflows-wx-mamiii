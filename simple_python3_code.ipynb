{
 "cells": [
  {
   "cell_type": "markdown",
   "id": "ce61a504",
   "metadata": {},
   "source": [
    "# Module 1 Part 2 Assignment"
   ]
  },
  {
   "cell_type": "markdown",
   "metadata": {},
   "source": [
    "A code that demonstrates GitHub's clone, branch, fork, pull, and request functionalities with a simper user input function."
   ]
  },
  {
   "cell_type": "code",
   "execution_count": null,
   "id": "c6ca6692",
   "metadata": {},
   "outputs": [
    {
     "name": "stdout",
     "output_type": "stream",
     "text": [
      "You should have eaten 15 hours ago\n"
     ]
    }
   ],
   "source": [
    "def lunch():\n",
    "\n",
    "    supposed_to_eat = 4 # Google says we should eat every 4 hours\n",
    "\n",
    "    meal = int(input('How many hours ago did you last eat? (enter an integer)'))\n",
    "    if meal > supposed_to_eat:\n",
    "        should_eat = meal - supposed_to_eat\n",
    "        print('You should have eaten', should_eat, 'hours ago')\n",
    "\n",
    "    elif meal < supposed_to_eat:\n",
    "        should_eat = supposed_to_eat - meal \n",
    "        print('You should eat in', should_eat, 'hours') \n",
    "\n",
    "    else: \n",
    "        print('It''s exactly time for your next meal!')    \n",
    "lunch ()"
   ]
  },
  {
   "cell_type": "code",
   "execution_count": null,
   "id": "4f593efc",
   "metadata": {},
   "outputs": [],
   "source": [
    "print ('test2')"
   ]
  }
 ],
 "metadata": {
  "kernelspec": {
   "display_name": "Python 3",
   "language": "python",
   "name": "python3"
  },
  "language_info": {
   "codemirror_mode": {
    "name": "ipython",
    "version": 3
   },
   "file_extension": ".py",
   "mimetype": "text/x-python",
   "name": "python",
   "nbconvert_exporter": "python",
   "pygments_lexer": "ipython3",
   "version": "3.11.13"
  }
 },
 "nbformat": 4,
 "nbformat_minor": 5
}
