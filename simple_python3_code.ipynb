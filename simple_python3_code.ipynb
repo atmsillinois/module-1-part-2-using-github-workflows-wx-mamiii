{
 "cells": [
  {
   "cell_type": "markdown",
   "id": "9be933dd",
   "metadata": {},
   "source": [
    "# Module 1 Part 2 Assignment"
   ]
  },
  {
   "cell_type": "code",
   "execution_count": 1,
   "id": "c6ca6692",
   "metadata": {},
   "outputs": [
    {
     "name": "stdout",
     "output_type": "stream",
     "text": [
      "test\n"
     ]
    }
   ],
   "source": [
    "print('test')"
   ]
  },
  {
   "cell_type": "code",
   "execution_count": null,
   "id": "4f593efc",
   "metadata": {},
   "outputs": [],
   "source": [
    "print ('test2')"
   ]
  }
 ],
 "metadata": {
  "kernelspec": {
   "display_name": "Python 3",
   "language": "python",
   "name": "python3"
  },
  "language_info": {
   "codemirror_mode": {
    "name": "ipython",
    "version": 3
   },
   "file_extension": ".py",
   "mimetype": "text/x-python",
   "name": "python",
   "nbconvert_exporter": "python",
   "pygments_lexer": "ipython3",
   "version": "3.11.13"
  }
 },
 "nbformat": 4,
 "nbformat_minor": 5
}
